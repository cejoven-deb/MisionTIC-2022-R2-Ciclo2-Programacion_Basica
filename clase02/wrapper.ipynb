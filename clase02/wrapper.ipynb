{
 "cells": [
  {
   "cell_type": "markdown",
   "metadata": {},
   "source": [
    "# Las clases **Wrapper** "
   ]
  },
  {
   "cell_type": "markdown",
   "metadata": {},
   "source": [
    "[Number - Java Tutorial](https://docs.oracle.com/javase/tutorial/java/data/numbers.html)\n",
    "\n",
    "- Existen razones para usar **objetos** en lugar de **primitivos**, y la plataforma Java proporciona _clases contenedoras_ para cada uno de los tipos de datos primitivos.  \n",
    "- Estas clases \"envuelven\" la primitiva en un objeto. \n",
    "- A menudo, el compilador realiza el envoltorio; si usa una primitiva donde se espera un objeto, el compilador encuadra la primitiva en su clase contenedora por usted. De manera similar, si usa un objeto de número cuando se espera una primitiva, el compilador abre el objeto por usted.\n",
    "\n",
    "![Wrapper classes](assets/wrapper.png)"
   ]
  },
  {
   "cell_type": "markdown",
   "metadata": {},
   "source": [
    "## Las clases numéricas\n",
    "![objects-numberHierarchy.png](https://docs.oracle.com/javase/tutorial/figures/java/objects-numberHierarchy.gif)\n",
    "\n",
    "Hay tres razones por las que podría usar un objeto **Number** en lugar de una primitiva:\n",
    "1. Como argumento de un método que espera un objeto (a menudo se usa cuando se manipulan colecciones de números).\n",
    "2. Para usar constantes definidas por la clase, como **MIN_VALUE** y **MAX_VALUE**, que proporcionan los límites superior e inferior del tipo de datos.\n",
    "3. Usar métodos de clase para convertir valores hacia y desde otros tipos primitivos, para convertir hacia y desde cadenas y para convertir entre sistemas numéricos (decimal, octal, hexadecimal, binario).\n",
    "\n",
    "### Métodos implementados por todos los números\n",
    "```Java\n",
    "byte byteValue()\n",
    "short shortValue()\n",
    "int intValue()\n",
    "long longValue()\n",
    "float floatValue()\n",
    "double doubleValue()\n",
    "\n",
    "int compareTo(Byte anotherByte)\n",
    "int compareTo(Double anotherDouble)\n",
    "int compareTo(Float anotherFloat)\n",
    "int compareTo(Integer anotherInteger)\n",
    "int compareTo(Long anotherLong)\n",
    "int compareTo(Short anotherShort)\n",
    "\n",
    "boolean equals(Object obj)\n",
    "```\n",
    "\n",
    "### Métodos de conversión: clase **Integer**\n",
    "```Java\n",
    "static Integer decode(String s)\n",
    "\n",
    "static int parseInt(String s)\n",
    "static int parseInt(String s, int radix)\n",
    "\n",
    "String toString()\n",
    "static String toString(int i)\n",
    "\n",
    "static Integer valueOf(int i)\n",
    "static Integer valueOf(String s)\n",
    "static Integer valueOf(String s, int radix)\n",
    "```"
   ]
  },
  {
   "cell_type": "markdown",
   "metadata": {},
   "source": [
    "## La clase **Character**\n",
    "[Character - Java Tutorial](https://docs.oracle.com/javase/tutorial/java/data/characters.html)\n",
    "\n",
    "- Hay momentos en los que necesita usar un char como un objeto, por ejemplo, como un argumento de método donde se espera un objeto.  \n",
    "- El lenguaje de programación Java proporciona una clase contenedora que \"envuelve\" el carácter en un objeto Carácter para este propósito.  \n",
    "- Un objeto de tipo Carácter contiene un solo campo, cuyo tipo es char. \n",
    "- Esta clase de caracteres también ofrece varios métodos de clase útiles (es decir, estáticos) para manipular caracteres.\n",
    "\n",
    "### Métodos\n",
    "```Java\n",
    "boolean isLetter(char ch)\n",
    "boolean isDigit(char ch)\n",
    "\n",
    "boolean isWhitespace(char ch)\n",
    "\n",
    "boolean isUpperCase(char ch)\n",
    "boolean isLowerCase(char ch)\n",
    "\n",
    "char toUpperCase(char ch)\n",
    "char toLowerCase(char ch)\n",
    "\n",
    "String toString(char ch)\n",
    "```\n",
    "\n",
    "### Caracteres de control\n",
    "![Caracteres de control](../clase01/assets/caracteres_control.png)"
   ]
  },
  {
   "cell_type": "markdown",
   "metadata": {},
   "source": [
    "## Autoboxing y Unboxing\n",
    "- _Autoboxing_ es la conversión automática que hace el compilador de Java entre los tipos primitivos y sus correspondientes clases contenedoras de objetos. Por ejemplo, convertir un int en un número entero, un doble en un doble, etc.  \n",
    "- Si la conversión va por el otro lado, esto se llama _unboxing_."
   ]
  },
  {
   "cell_type": "code",
   "execution_count": null,
   "metadata": {},
   "outputs": [],
   "source": [
    "Character ch = 'a';"
   ]
  },
  {
   "cell_type": "code",
   "execution_count": null,
   "metadata": {},
   "outputs": [],
   "source": [
    "import java.util.ArrayList;\n",
    "\n",
    "var lista = new ArrayList<Integer>();\n",
    "for (int i = 1; i < 50; i += 2) {\n",
    "    lista.add(i);\n",
    "}\n",
    "\n",
    "for (Integer i: lista) {\n",
    "    System.out.print(i + \" \");\n",
    "}"
   ]
  },
  {
   "cell_type": "code",
   "execution_count": null,
   "metadata": {},
   "outputs": [],
   "source": [
    "import java.util.List;\n",
    "import java.util.ArrayList;\n",
    "\n",
    "public static int sumaPares(List<Integer> lista) {\n",
    "    int sum = 0;\n",
    "    for (Integer i: lista) {\n",
    "        if (i % 2 == 0) {\n",
    "            sum += i;\n",
    "        }\n",
    "    }\n",
    "    return sum;\n",
    "}\n",
    "\n",
    "System.out.println(sumaPares(lista));"
   ]
  },
  {
   "cell_type": "code",
   "execution_count": null,
   "metadata": {},
   "outputs": [],
   "source": [
    "lista = new ArrayList<Integer>();\n",
    "for (int i = 0; i < 50; i += 2) {\n",
    "    lista.add(i);\n",
    "}\n",
    "System.out.println(sumaPares(lista));"
   ]
  },
  {
   "cell_type": "code",
   "execution_count": null,
   "metadata": {},
   "outputs": [],
   "source": [
    "public static int absoluteValue(int i) {\n",
    "    return (i < 0) ? -i : i;\n",
    "}\n",
    "\n",
    "Integer i = new Integer(-8);\n",
    "\n",
    "// 1. Unboxing through method invocation\n",
    "int absVal = absoluteValue(i);\n",
    "System.out.println(\"absolute value of \" + i + \" = \" + absVal);\n",
    "\n",
    "List<Double> ld = new ArrayList<>();\n",
    "ld.add(3.1416);    // Π is autoboxed through method invocation.\n",
    "\n",
    "// 2. Unboxing through assignment\n",
    "double pi = ld.get(0);\n",
    "System.out.println(\"pi = \" + pi);"
   ]
  }
 ],
 "metadata": {
  "kernelspec": {
   "display_name": "Java",
   "language": "java",
   "name": "java"
  },
  "language_info": {
   "codemirror_mode": "java",
   "file_extension": ".jshell",
   "mimetype": "text/x-java-source",
   "name": "java",
   "pygments_lexer": "java",
   "version": "17.0.1+12"
  },
  "orig_nbformat": 4
 },
 "nbformat": 4,
 "nbformat_minor": 2
}
